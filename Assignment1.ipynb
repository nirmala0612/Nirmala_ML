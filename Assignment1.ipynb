{
 "cells": [
  {
   "cell_type": "markdown",
   "metadata": {},
   "source": [
    "1. Write a program which will find all such numbers which are divisible by 7 but are not a multiple\n",
    "    of 5, between 2000 and 3200 (both included). The numbers obtained should be printed in a\n",
    "    comma-separated sequence on a single line."
   ]
  },
  {
   "cell_type": "code",
   "execution_count": null,
   "metadata": {},
   "outputs": [],
   "source": [
    "j=[]\n",
    "i=2000\n",
    "while i<=3200:\n",
    "    i=i+1\n",
    "    if (i%7==0) and (i%5!=0):\n",
    "        j.append(str(i))\n",
    "print(j)"
   ]
  },
  {
   "cell_type": "markdown",
   "metadata": {},
   "source": [
    "2. Write a Python program to accept the user's first and last name and then getting them printed in\n",
    "    the the reverse order with a space between first name and last name."
   ]
  },
  {
   "cell_type": "code",
   "execution_count": null,
   "metadata": {},
   "outputs": [],
   "source": [
    "name1=input(\"Enter ur first name:\")\n",
    "fn=name1[::-1]\n",
    "name2=input(\"enter ur last name:\")\n",
    "ln=name2[::-1]\n",
    "print(fn+'\\t'+ln)"
   ]
  },
  {
   "cell_type": "markdown",
   "metadata": {},
   "source": [
    "3. Write a Python program to find the volume of a sphere with diameter 12 cm."
   ]
  },
  {
   "cell_type": "code",
   "execution_count": null,
   "metadata": {},
   "outputs": [],
   "source": [
    "pi=3.14\n",
    "r=6\n",
    "v=4/3*pi*r**3\n",
    "v"
   ]
  },
  {
   "cell_type": "markdown",
   "metadata": {},
   "source": [
    "4. Write a program which accepts a sequence of comma-separated numbers from console and\n",
    "   generate a list."
   ]
  },
  {
   "cell_type": "code",
   "execution_count": null,
   "metadata": {},
   "outputs": [],
   "source": [
    "l=[] \n",
    "data = input(\"Enter numbers sepreated with comma:\")\n",
    "l.append(data)\n",
    "l"
   ]
  },
  {
   "cell_type": "markdown",
   "metadata": {},
   "source": [
    "5. Create the below pattern using nested for loop in Python.|"
   ]
  },
  {
   "cell_type": "code",
   "execution_count": null,
   "metadata": {},
   "outputs": [],
   "source": [
    "for i in range(0,5):\n",
    "    print(\"*\"+i*\"*\")\n",
    "    i=i+1\n",
    "for j in range((i-1),0,-1):\n",
    "    print(j*\"*\")   "
   ]
  },
  {
   "cell_type": "markdown",
   "metadata": {},
   "source": [
    "6. Write a Python program to reverse a word after accepting the input from the user."
   ]
  },
  {
   "cell_type": "code",
   "execution_count": null,
   "metadata": {},
   "outputs": [],
   "source": [
    "w=input(\"Enter a word:\")\n",
    "print(w[::-1])"
   ]
  },
  {
   "cell_type": "markdown",
   "metadata": {},
   "source": [
    "7. Write a Python Program to print the given string in the format specified in the sample output.\n",
    "    WE, THE PEOPLE OF INDIA, having solemnly resolved to constitute India into a\n",
    "    SOVEREIGN, SOCIALIST, SECULAR, DEMOCRATIC REPUBLIC and to secure to all\n",
    "    its citizens"
   ]
  },
  {
   "cell_type": "code",
   "execution_count": null,
   "metadata": {},
   "outputs": [],
   "source": [
    "string=\"WE,THE PEOPLE OF INDIA,having solmenly resolve to constitute India into a SOVERIGN,SOCIALIST,SECULAR,DEMOCRATIC REPUBLIC and to secure to all its citizens\"\n",
    "display1=string.rsplit(\",\",4)\n",
    "display1"
   ]
  }
 ],
 "metadata": {
  "kernelspec": {
   "display_name": "Python 3",
   "language": "python",
   "name": "python3"
  },
  "language_info": {
   "codemirror_mode": {
    "name": "ipython",
    "version": 3
   },
   "file_extension": ".py",
   "mimetype": "text/x-python",
   "name": "python",
   "nbconvert_exporter": "python",
   "pygments_lexer": "ipython3",
   "version": "3.7.6"
  }
 },
 "nbformat": 4,
 "nbformat_minor": 4
}
