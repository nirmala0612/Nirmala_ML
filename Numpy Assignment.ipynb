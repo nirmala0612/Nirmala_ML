{
 "cells": [
  {
   "cell_type": "markdown",
   "metadata": {},
   "source": [
    "1. Write a function so that the columns of the output matrix are powers of the input\n",
    "   vector.The order of the powers is determined by the increasing boolean argument. Specifically, when\n",
    "   increasing is False, the i-th output column is the input vector raised element-wise to the power\n",
    "   of N - i - 1."
   ]
  },
  {
   "cell_type": "code",
   "execution_count": 16,
   "metadata": {},
   "outputs": [
    {
     "name": "stdout",
     "output_type": "stream",
     "text": [
      "The Input Array is: [1 2 3 5 6] \n",
      "\n",
      "Vander Matrix of the input array in decreasing order of powers:\n",
      " [[ 1  1  1]\n",
      " [ 4  2  1]\n",
      " [ 9  3  1]\n",
      " [25  5  1]\n",
      " [36  6  1]] \n",
      "\n",
      "Vander Matrix of the input array in increasing order of powers:\n",
      " [[ 1  1  1]\n",
      " [ 1  2  4]\n",
      " [ 1  3  9]\n",
      " [ 1  5 25]\n",
      " [ 1  6 36]] \n",
      "\n"
     ]
    }
   ],
   "source": [
    "import numpy as np\n",
    "\n",
    "def vander_matrix(ipvector,n,increasing=False):\n",
    "    \n",
    "    if not increasing:\n",
    "        out_matrix=np.array([x**(n-1-i) for x in ipvector for i in range(n)]).reshape(ipvector.size,n)\n",
    "    elif increasing:\n",
    "        out_matrix=np.array([x**i for x in ipvector for i in range(n)]).reshape(ipvector.size,n)\n",
    "        \n",
    "    return out_matrix\n",
    "\n",
    "ipvector=np.array([1,2,3,5,6])\n",
    "no_columns=3\n",
    "out_matrix_dec_order=vander_matrix(ipvector,no_columns,False)\n",
    "out_matrix_inc_order=vander_matrix(ipvector,no_columns,True)\n",
    "\n",
    "print('The Input Array is:',ipvector,'\\n')\n",
    "print('Vander Matrix of the input array in decreasing order of powers:\\n',out_matrix_dec_order,'\\n')\n",
    "print('Vander Matrix of the input array in increasing order of powers:\\n',out_matrix_inc_order,'\\n')\n",
    "\n"
   ]
  },
  {
   "cell_type": "markdown",
   "metadata": {},
   "source": [
    "2.Write a function to find moving average in an array over a window:\n",
    "Test it over [3, 5, 7, 2, 8, 10, 11, 65, 72, 81, 99, 100, 150] and window of 3."
   ]
  },
  {
   "cell_type": "code",
   "execution_count": 18,
   "metadata": {},
   "outputs": [
    {
     "data": {
      "text/plain": [
       "array([  5.        ,   4.66666667,   5.66666667,   6.66666667,\n",
       "         9.66666667,  28.66666667,  49.33333333,  72.66666667,\n",
       "        84.        ,  93.33333333, 116.33333333])"
      ]
     },
     "execution_count": 18,
     "metadata": {},
     "output_type": "execute_result"
    }
   ],
   "source": [
    "import numpy as np\n",
    "\n",
    "def movingavg(values,window):\n",
    "    weights=np.repeat(1.0,window)/window\n",
    "    seq=np.convolve(values,weights,'valid')\n",
    "    return seq\n",
    "\n",
    "dataset=[3, 5, 7, 2, 8, 10, 11, 65, 72, 81, 99, 100, 150]\n",
    "movingavg(dataset,3)"
   ]
  }
 ],
 "metadata": {
  "kernelspec": {
   "display_name": "Python 3",
   "language": "python",
   "name": "python3"
  },
  "language_info": {
   "codemirror_mode": {
    "name": "ipython",
    "version": 3
   },
   "file_extension": ".py",
   "mimetype": "text/x-python",
   "name": "python",
   "nbconvert_exporter": "python",
   "pygments_lexer": "ipython3",
   "version": "3.7.6"
  }
 },
 "nbformat": 4,
 "nbformat_minor": 4
}
