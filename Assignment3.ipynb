{
 "cells": [
  {
   "cell_type": "markdown",
   "metadata": {},
   "source": [
    "1.1 Write a Python Program to implement your own myreduce() function which works exactly\n",
    "like Python's built-in function reduce()"
   ]
  },
  {
   "cell_type": "code",
   "execution_count": 1,
   "metadata": {},
   "outputs": [
    {
     "name": "stdout",
     "output_type": "stream",
     "text": [
      "15\n"
     ]
    }
   ],
   "source": [
    "def myreduce(items):\n",
    "    sum1=0\n",
    "    for x in items:\n",
    "        sum1=sum1+x\n",
    "    return sum1\n",
    "items=[1,2,3,4,5]\n",
    "print(myreduce(items))"
   ]
  },
  {
   "cell_type": "markdown",
   "metadata": {},
   "source": [
    "1.2 Write a Python program to implement your own myfilter() function which works exactly\n",
    "like Python's built-in function filter()"
   ]
  },
  {
   "cell_type": "code",
   "execution_count": 2,
   "metadata": {},
   "outputs": [
    {
     "name": "stdout",
     "output_type": "stream",
     "text": [
      "[34, 56, 89]\n"
     ]
    }
   ],
   "source": [
    "def myfilter(items):\n",
    "    max=25\n",
    "    lst=[]\n",
    "    for x in items:\n",
    "        if x > max:\n",
    "            lst.append(x)\n",
    "    return lst\n",
    "items=[12,34,56,25,89]\n",
    "print(myfilter(items))"
   ]
  },
  {
   "cell_type": "markdown",
   "metadata": {},
   "source": [
    "2. Implement List comprehensions to produce the following lists.\n",
    "Write List comprehensions to produce the following Lists"
   ]
  },
  {
   "cell_type": "code",
   "execution_count": 3,
   "metadata": {},
   "outputs": [
    {
     "name": "stdout",
     "output_type": "stream",
     "text": [
      "['x', 'xx', 'xxx', 'xxxx', 'y', 'yy', 'yyy', 'yyyy', 'z', 'zz', 'zzz', 'zzzz']\n",
      "['x', 'y', 'z', 'xx', 'yy', 'zz', 'xxx', 'yyy', 'zzz', 'xxxx', 'yyyy', 'zzzz']\n",
      "[[2], [3], [4], [3], [4], [5], [4], [5], [6]]\n",
      "[[2, 3, 4, 5], [3, 4, 5, 6], [4, 5, 6, 7], [5, 6, 7, 8]]\n",
      "[(1, 1), (2, 1), (3, 1), (1, 2), (2, 2), (3, 2), (1, 3), (2, 3), (3, 3)]\n"
     ]
    }
   ],
   "source": [
    "i=[\"x\",\"y\",\"z\"]\n",
    "result=[item*num for item in i for num in range(1,5)]\n",
    "print(str(result))\n",
    "result1=[item*num for num in range(1,5) for item in i]\n",
    "print(str(result1))\n",
    "j=[2,3,4]\n",
    "result2=[[item+num]for item in j for num in range(0,3)]\n",
    "print(str(result2))\n",
    "k=[2,3,4,5]\n",
    "result3=[[item+num for item in k]for num in range(0,4)]\n",
    "print(str(result3))\n",
    "l=[1,2,3]\n",
    "result4=[(b,a)for a in l for b in l]\n",
    "print(str(result4))"
   ]
  }
 ],
 "metadata": {
  "kernelspec": {
   "display_name": "Python 3",
   "language": "python",
   "name": "python3"
  },
  "language_info": {
   "codemirror_mode": {
    "name": "ipython",
    "version": 3
   },
   "file_extension": ".py",
   "mimetype": "text/x-python",
   "name": "python",
   "nbconvert_exporter": "python",
   "pygments_lexer": "ipython3",
   "version": "3.7.6"
  }
 },
 "nbformat": 4,
 "nbformat_minor": 4
}
