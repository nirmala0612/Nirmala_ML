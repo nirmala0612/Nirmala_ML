{
 "cells": [
  {
   "cell_type": "markdown",
   "metadata": {},
   "source": [
    "1.1 Write a Python Program(with class concepts) to find the area of the triangle using the below\n",
    "formula.\n",
    "area = (s*(s-a)*(s-b)*(s-c)) ** 0.5\n",
    "Function to take the length of the sides of triangle from user should be defined in the parent\n",
    "class and function to calculate the area should be defined in subclass."
   ]
  },
  {
   "cell_type": "code",
   "execution_count": 1,
   "metadata": {},
   "outputs": [
    {
     "name": "stdout",
     "output_type": "stream",
     "text": [
      "Area of Triangle is 6.\n"
     ]
    }
   ],
   "source": [
    "class Calc:\n",
    "    def __init__(self,a,b,c):\n",
    "        self.a1=a\n",
    "        self.b1=b\n",
    "        self.c1=c\n",
    "    \n",
    "    def area(self):\n",
    "        s=(self.a1+self.b1+self.c1)/2\n",
    "        area=(s*(s-self.a1)*(s-self.b1)*(s-self.c1))**0.5\n",
    "        return (\"Area of Triangle is %d.\"%area)\n",
    " \n",
    "c=Calc(3,4,5)\n",
    "print(c.area())"
   ]
  },
  {
   "cell_type": "markdown",
   "metadata": {},
   "source": [
    "1.2 Write a function filter_long_words() that takes a list of words and an integer n and returns\n",
    "the list of words that are longer than n."
   ]
  },
  {
   "cell_type": "code",
   "execution_count": 2,
   "metadata": {},
   "outputs": [
    {
     "data": {
      "text/plain": [
       "'Yasvithaa'"
      ]
     },
     "execution_count": 2,
     "metadata": {},
     "output_type": "execute_result"
    }
   ],
   "source": [
    "def filter_long_words(words):\n",
    "    \n",
    "    longest_word=max(words,key=len)\n",
    "    return longest_word\n",
    "\n",
    "filter_long_words([\"Nirmala\",\"Senthil\",\"Yasvithaa\",\"Pranav\"])"
   ]
  },
  {
   "cell_type": "markdown",
   "metadata": {},
   "source": [
    "2.1 Write a Python program using function concept that maps list of words into a list of integers\n",
    "representing the lengths of the corresponding words."
   ]
  },
  {
   "cell_type": "code",
   "execution_count": 4,
   "metadata": {},
   "outputs": [
    {
     "name": "stdout",
     "output_type": "stream",
     "text": [
      "[7, 7, 9, 12]\n"
     ]
    }
   ],
   "source": [
    "def mapping(words):\n",
    "    words_len=[]\n",
    "    for n in words:\n",
    "        words_len.append(len(n))\n",
    "    return words_len\n",
    "                 \n",
    "print(mapping([\"Nirmala\",\"Senthil\",\"Yasvithaa\",\"Pranavkarthi\"]))"
   ]
  },
  {
   "cell_type": "markdown",
   "metadata": {},
   "source": [
    "2.2 Write a Python function which takes a character (i.e. a string of length 1) and returns True if\n",
    "it is a vowel, False otherwise."
   ]
  },
  {
   "cell_type": "code",
   "execution_count": 6,
   "metadata": {},
   "outputs": [
    {
     "data": {
      "text/plain": [
       "False"
      ]
     },
     "execution_count": 6,
     "metadata": {},
     "output_type": "execute_result"
    }
   ],
   "source": [
    "def charcheck(x):\n",
    "    \n",
    "    if(x==\"a\" or x==\"e\" or x==\"i\" or x==\"o\" or x==\"u\"):\n",
    "        return True\n",
    "    else:\n",
    "        return False\n",
    "    \n",
    "charcheck(\"a\")   \n",
    "charcheck(\"d\")"
   ]
  }
 ],
 "metadata": {
  "kernelspec": {
   "display_name": "Python 3",
   "language": "python",
   "name": "python3"
  },
  "language_info": {
   "codemirror_mode": {
    "name": "ipython",
    "version": 3
   },
   "file_extension": ".py",
   "mimetype": "text/x-python",
   "name": "python",
   "nbconvert_exporter": "python",
   "pygments_lexer": "ipython3",
   "version": "3.7.6"
  }
 },
 "nbformat": 4,
 "nbformat_minor": 4
}
